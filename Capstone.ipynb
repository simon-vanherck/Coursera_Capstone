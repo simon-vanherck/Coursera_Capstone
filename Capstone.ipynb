{
 "cells": [
  {
   "cell_type": "markdown",
   "metadata": {},
   "source": [
    "# IBM Data Science Professional Certifical\n",
    "\n",
    "## Applied Data Science Capstone : Capstone Project - The Battle of Neighborhoods"
   ]
  },
  {
   "cell_type": "markdown",
   "metadata": {},
   "source": [
    "### Table of Contents :\n",
    "\n",
    "1. Introduction of the problem\n",
    "2. Data"
   ]
  },
  {
   "cell_type": "markdown",
   "metadata": {},
   "source": [
    "### Introduction of the problem\n",
    "\n",
    "An entrepreneur looking to open a restaurant will always face the decision of where to go. The location is an important factor for the success of a business and especially a restaurant. We will try to help entrepreneurs in metropolitan area of Brussels in this decision making by providing location recommendations.\n",
    "\n",
    "We will provide the interesting spots for a new implementation in the \"French\" cooking category "
   ]
  },
  {
   "cell_type": "markdown",
   "metadata": {},
   "source": [
    "### Data\n",
    "\n",
    "Brussels is a region in Belgium and is split in 19 different municipalities (which ressemble Boroughs like the ones in New York and Toronto, but smaller)\n",
    "\n",
    "|Municipality|Postal Code|Area|Population|Coordinates|\n",
    "|---|---|---|---|---|\n",
    "|Anderlecht|1070|17.7km²|118241|50.833333°N, 4.333333°E|\n",
    "\n",
    "\n",
    "Those 19 Municipalities (Boroughs) hold various Neighborhoods. These are difficult to gather as we don't have an official table listing the Neighborhoods linked to the Boroughs. We will make an effort to create this table with the following structure : \n",
    "If the neighborough list is to difficult to gather via web scraping, I will create a table manually and import it as a file\n",
    "\n",
    "|Neighborhood|Municipality|Coordinates|\n",
    "|---|---|---|\n",
    "|Îlot Sacré|Ville de Bruxelles|50° 50′ 53″ N, 4° 21′ 08″ E|\n",
    "|Heysel|Laeken|50° 53′ 35″ N, 4° 20′ 38″ E|"
   ]
  },
  {
   "cell_type": "code",
   "execution_count": 1,
   "metadata": {},
   "outputs": [],
   "source": [
    "url_municipalities = \"https://en.wikipedia.org/wiki/List_of_municipalities_of_the_Brussels-Capital_Region\"\n",
    "url_neighborhoods = \"https://fr.wikipedia.org/wiki/Liste_des_quartiers_et_localit%C3%A9s_de_la_r%C3%A9gion_de_Bruxelles-Capitale\""
   ]
  },
  {
   "cell_type": "code",
   "execution_count": null,
   "metadata": {},
   "outputs": [],
   "source": []
  }
 ],
 "metadata": {
  "kernelspec": {
   "display_name": "Python 3",
   "language": "python",
   "name": "python3"
  },
  "language_info": {
   "codemirror_mode": {
    "name": "ipython",
    "version": 3
   },
   "file_extension": ".py",
   "mimetype": "text/x-python",
   "name": "python",
   "nbconvert_exporter": "python",
   "pygments_lexer": "ipython3",
   "version": "3.8.5"
  }
 },
 "nbformat": 4,
 "nbformat_minor": 4
}
